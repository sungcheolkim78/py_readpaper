{
 "cells": [
  {
   "cell_type": "code",
   "execution_count": 1,
   "metadata": {},
   "outputs": [],
   "source": [
    "from PyPDF2 import PdfFileReader\n",
    " \n",
    " \n",
    "def get_info(path):\n",
    "    with open(path, 'rb') as f:\n",
    "        pdf = PdfFileReader(f)\n",
    "        info = pdf.getDocumentInfo()\n",
    "        number_of_pages = pdf.getNumPages()\n",
    " \n",
    "    print(info)\n",
    " \n",
    "    author = info.author\n",
    "    creator = info.creator\n",
    "    producer = info.producer\n",
    "    subject = info.subject\n",
    "    title = info.title"
   ]
  },
  {
   "cell_type": "code",
   "execution_count": 2,
   "metadata": {},
   "outputs": [
    {
     "name": "stdout",
     "output_type": "stream",
     "text": [
      "{'/CreationDate': 'D:20080801105612Z', '/Creator': '3B2 Total Publishing System 7.51n/W', '/ModDate': \"D:20171025160815-04'00'\", '/Producer': 'PDFlib PLOP 2.0.0p6 (SunOS)/Acrobat Distiller 4.05 for Windows', '/Title': b'Microfluidic Self-Patterning of Large-Scale Crystalline Nanoarrays for High-Throughput Continuous DNA Fractionation\\n\\nThis work was supported by the Natural Sciences and Engineering Research Council of Canada (NSERC). Microfabrication in this work was done at Nanofab, University of Alberta.', '/WPS-ARTICLEDOI': '10.1002/anie.200800816', '/WPS-JOURNALDOI': '10.1002/(ISSN)1521-3773', '/WPS-PROCLEVEL': '2'}\n"
     ]
    }
   ],
   "source": [
    "get_info('../example/Zeng_et_al-2008-Angewandte_Chemie_(International_ed._in_English).pdf')"
   ]
  },
  {
   "cell_type": "code",
   "execution_count": 3,
   "metadata": {},
   "outputs": [],
   "source": [
    "def text_extractor(path):\n",
    "    with open(path, 'rb') as f:\n",
    "        pdf = PdfFileReader(f)\n",
    " \n",
    "        # get the first page\n",
    "        page = pdf.getPage(1)\n",
    "        print(page)\n",
    "        print('Page type: {}'.format(str(type(page))))\n",
    " \n",
    "        text = page.extractText()\n",
    "        print(text)"
   ]
  },
  {
   "cell_type": "code",
   "execution_count": 4,
   "metadata": {},
   "outputs": [
    {
     "name": "stdout",
     "output_type": "stream",
     "text": [
      "{'/Annots': [IndirectObject(40, 0), IndirectObject(41, 0), IndirectObject(42, 0), IndirectObject(43, 0), IndirectObject(44, 0)], '/Contents': IndirectObject(2, 0), '/CropBox': [0, 0, 595, 842], '/MediaBox': [0, 0, 595, 842], '/Parent': IndirectObject(135, 0), '/Resources': IndirectObject(45, 0), '/Rotate': 0, '/Type': '/Page'}\n",
      "Page type: <class 'PyPDF2.pdf.PageObject'>\n",
      "\n",
      "\n",
      "\n",
      "12!\n",
      "\n",
      "\n",
      "\n",
      "6˝ˇ\n",
      "ˆ˙7˛\n",
      "\n",
      "$$)\n",
      "˙$&\n",
      "8˜\n",
      "˙˙ˇ%˝\"\n",
      "ˇ!12!\n",
      "\n",
      "˝(˝)6˝12!\n",
      "\n",
      "ˇ6˝\n",
      "\n",
      "\n",
      "\n",
      "\n",
      "\n",
      "˝%*˚\n",
      "˙˙'5?\n",
      "˙ˇ\n",
      "\n",
      "\n",
      "˙&*˚\n",
      "˝ˇ)ˇ\n",
      "\n",
      "\n",
      "\n",
      "\n",
      "12!\n",
      "\n",
      "\n",
      "\n",
      "\n",
      "12!\n",
      "A12!\n",
      "\n",
      "ˇ\n",
      "ˆ˙7˛\n",
      "\n",
      "\n",
      "\n",
      "\n",
      "\n",
      "\n",
      "12!\n",
      "\n",
      "\n",
      "\n",
      "\n",
      "\n",
      "\n",
      "\n",
      "\n",
      "\n",
      "ˇ6$\n",
      "\n",
      "\n",
      "\n",
      "\n",
      "\n",
      "˙˝(˙˝ ˙\n",
      "()0˙˝;0'\n",
      "\n",
      "!˚#˙<˚˙˝+0-˙˝\n",
      "˝0˙˝\n",
      "\n",
      "\"˚˙˝\n",
      "/\n",
      "/\n",
      "0\n",
      "˚\n",
      " ˚˜˙ ˚ ˙/\n",
      ")$\n",
      "+˙˝\n",
      "˝ˆ˙!\n",
      "˙˝\n",
      " ˙)0\"(˙<˙˝\n",
      "\n",
      ";0˙˝=)˜\n",
      "\n",
      "/\n",
      "C;!\n",
      "˘D0˝ˆ˙!)˙  ˙!˙˝$\n",
      ")˙  ˙!˝˙ˆ+0\n",
      "˚/\n",
      "C;!\n",
      "˝ˆ˙! \n",
      ")$)$\n",
      "˙˝/˙ˆ˙˝(\n",
      "\n",
      "\n",
      "\n",
      "ˇˇ\n",
      "\n",
      "\n"
     ]
    }
   ],
   "source": [
    "text_extractor('../example/Zeng_et_al-2008-Angewandte_Chemie_(International_ed._in_English).pdf')"
   ]
  },
  {
   "cell_type": "code",
   "execution_count": null,
   "metadata": {},
   "outputs": [],
   "source": []
  }
 ],
 "metadata": {
  "kernelspec": {
   "display_name": "Python 3 (default)",
   "language": "python",
   "name": "python3"
  },
  "language_info": {
   "codemirror_mode": {
    "name": "ipython",
    "version": 3
   },
   "file_extension": ".py",
   "mimetype": "text/x-python",
   "name": "python",
   "nbconvert_exporter": "python",
   "pygments_lexer": "ipython3",
   "version": "3.7.2"
  }
 },
 "nbformat": 4,
 "nbformat_minor": 2
}
