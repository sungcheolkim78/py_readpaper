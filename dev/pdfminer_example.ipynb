{
 "cells": [
  {
   "cell_type": "code",
   "execution_count": 1,
   "metadata": {},
   "outputs": [],
   "source": [
    "import io\n",
    " \n",
    "from pdfminer.converter import TextConverter\n",
    "from pdfminer.pdfinterp import PDFPageInterpreter\n",
    "from pdfminer.pdfinterp import PDFResourceManager\n",
    "from pdfminer.pdfpage import PDFPage"
   ]
  },
  {
   "cell_type": "code",
   "execution_count": 2,
   "metadata": {},
   "outputs": [],
   "source": [
    "def extract_text_from_pdf(pdf_path):\n",
    "    resource_manager = PDFResourceManager()\n",
    "    fake_file_handle = io.StringIO()\n",
    "    converter = TextConverter(resource_manager, fake_file_handle)\n",
    "    page_interpreter = PDFPageInterpreter(resource_manager, converter)\n",
    " \n",
    "    with open(pdf_path, 'rb') as fh:\n",
    "        for page in PDFPage.get_pages(fh, \n",
    "                                      caching=True,\n",
    "                                      check_extractable=True):\n",
    "            page_interpreter.process_page(page)\n",
    " \n",
    "        text = fake_file_handle.getvalue()\n",
    " \n",
    "    # close open handles\n",
    "    converter.close()\n",
    "    fake_file_handle.close()\n",
    " \n",
    "    if text:\n",
    "        return text"
   ]
  },
  {
   "cell_type": "code",
   "execution_count": 3,
   "metadata": {},
   "outputs": [
    {
     "data": {
      "text/plain": [
       "'MicrofluidicsDOI:10.1002/anie.200800816MicrofluidicSelf-PatterningofLarge-ScaleCrystallineNanoarraysforHigh-ThroughputContinuousDNAFractionation**YongZeng,MeiHe,andD.JedHarrison*Self-assemblyoffersanattractiveroutetoproducemacro-scopicfunctionalensemblesfrommicroscopicbuildingblocks,suchasmacromolecules,colloids,andnanotubes.[1,2]Spontaneousorganizationofmonodispersedcolloidsintocrystallinearrays,dubbedcolloidalselfassembly(CSA),hasbeenextensivelyexploredinavarietyofareas,suchasthedesignofmaterials,[3]photonics,[4]sensors,[5]andmolecularmanipulationandseparation.[6–10]Highqualitycolloidalfilmswithminimallatticedefectsandlargedomainsizehavebeenachieved.[11,12]Successinmanyapplicationswillalsodemandtheabilitytopatternself-assembledcolloidallatticesintowell-definedarchitecturesandwithinintegratedmicrosys-tems.Anumberofpatterningmethodshavebeendeveloped,includingphysicalconfinement,[13–15]electricfield-assistedpatterning,[16]andsurface-directedpatterning.[17]Large-scalecolloidalpatterning,however,stillsuffersfromlongprocess-ingtimeandmajordefects,particularlycracks.Herein,wereportamicrofluidicapproachforpatterninglarge-areacolloidalarraysintocomplexmicrodevices,whichcontrolsevaporation-inducedcolloidalcrystallizationtoavoidtheformationofcracks.Toexemplifytheapplicationofthistechnique,apatternedlarge-areacolloidalnanoarraywasdemonstratedasmolec-ularsortingstructureforcontinuousseparationofDNA.Itscounterparts,lithographicallyfabricatedmicro-/nanostruc-tureshavebeenwidelyusedforbioseparations.[18–21]How-ever,theirpracticalapplicationsarelargelyimpededbycurrenttechnicallimitationsofnanolithography,suchashighcost,tediousfabrication,andchallengesinfabricationat10nmlengthscales.Inthisregard,CSAprovidesasimpleandcost-effectivealternative,especiallyforlarge-areapatterningofnanoscalefeatures.Forinstance,comparedtotwo-dimen-sional(2D)microfabricatedpostarrays,[19,20]ourdevicedemandsmuchlesseffortandcostoffabrication;itpossessesa3Dperiodicporousstructure,whicheasesoperationandimprovessamplethroughput;anditoffersgreatflexibilityinvaryingporesizetotargetcertainmolecularsizeranges.Preparationoflargecrack-freecolloidalstructuresaremuchmorechallengingthanassemblingnarrow1Dbandsbyasingle-channelCSAapproach,[7]duetotheheterogeneouscapillarystressbuiltacrossalargeareaduringsolventevaporation.CSAinslabfluidiccellscommonlyusedforgrowinglarge-areacolloidalfilmsgeneratesapatternofcrackswhicharespacedperiodicallyalongtheevaporatingedgeandpropagateparallelfromtheendintothebulk.[22,23]Capillarystresswasfoundtobethedrivingforceforfilmfracturingandthespatialperiodofcrackswasthoughttobesetbythecharacteristiclengthofstressvariationalongthedryingedge,whichreflectsthebalancebetweenevaporation-inducedcapillarypressureandstressrelaxationbycrackopening.[23,24]Ourmicrofluidicself-patterningapproach,illus-tratedinFigure1a,usesmultiplemicrochannelstoguideCSAwithinlarge-scalemicrodevices.Themicrochannelsreducethestressnonuniformitybydividingwideopenedgesintosegmentsshorterthanthecharacteristiclengthscaleabovewhichcrackingoccurs,andpreventthedryingfrontfrompenetratingintothebulk.[7]Figure1bpresentsthedesignofa2DDNAsortingmicrodevicebasedonthismethodology.Itconsistsofa4\\x944mm2squarechamberconnectedtothereservoirsvia20microchannels(100mm\\x945mm,200mmperiodicity)oneachside.Themicrochannelarraysweredesignedbyconsideringbothexperimentalmeasurementsofcrackspacingintheliterature[24,25]andthegenerationoffairlyuniformelectricfieldsoverthelargechamber.[26]Figure1cshowsthataPDMSdevicepackedwith0.9mmsilicabeadsexhibitsaspectrumofiridescentcolorsunderwhitelightillumination,duetoBraggscatteringfromthe3Dperiodiclattice.InFigure1d,anas-prepared330nmsilicananoarrayshowsauniformlytranslucentpattern,indicatingthepresenceofinterstitialwaterandnocracksformed.SEMimagingconfirmsthelong-rangcrystallinestructureofclose-packed330nmspheres,withthe(111)planeparalleltothesubstrate(Figure1e).Alowdensityoflatticedefectswasalsoseen,whichmayaffecttheseparationperformance;buttheyarerandomlydistributedsothatnoaccumulativeeffectslikeflowchannelingwillarise.Large-areacolloidalarraysallowustomeasuretheiropticalpropertiesasseeninFigure1e.Thecharacteristicstopbandatlmax=615nmcorrespondstothefirst-orderBraggdiffractionfromadried330nmsilicananoarray.Thesmalldeviationoflmaxbetweenthefreshlypreparednanoarrays(lmax=613.0\\x062.8nm,n=5)andthosepreviouslyusedforseparations(lmax=617.0\\x065.6nm,n=4)impliesfairlygoodstabilityofself-patternednanoarraysunderappliedpulsingelectricfieldsupto170Vcm\\x001.Thewholedevicecanbepackedwithinlessthan6hrsfor10%w/v330nmbeadsunderambientconditions,whichismuchfasterthantheapproachesusingsedimentation[9]andbarrierstructure.[14][*]Y.Zeng,M.He,Prof.D.J.HarrisonDepartmentofChemistry,UniversityofAlbertaEdmontonAB,T6G2G2(Canada)Fax:(+1)780-492-8231E-mail:jed.harrison@ualberta.ca[**]ThisworkwassupportedbytheNaturalSciencesandEngineeringResearchCouncilofCanada(NSERC).MicrofabricationinthisworkwasdoneatNanofab,UniversityofAlberta.SupportinginformationforthisarticleisavailableontheWWWunderhttp://dx.doi.org/10.1002/anie.200800816.Communications6388\\x172008Wiley-VCHVerlagGmbH&Co.KGaA,WeinheimAngew.Chem.Int.Ed.2008,47,6388–6391\\x0cContinuous-flowseparationunderasymmetricpulsedfieldsisbasedonthebiasedreorientationmechanism,whereDNAfragmentscanbeseparatedintoindividualflowstreamsofdifferentdeflectionangles,q,asdetailedinFigure2aandb.[19]Inourcase,allseparationswereper-formedusing330nmnanoarrays,unlessotherwisemen-tioned,andca.1358pulsedfields(E1\\x191.4E2)appliedacrosstheseparationbeds.AclearseparationoffourDNAfrag-mentsof2–20kbpisseeninFigure2c,showingsmoothDNAstreamswithnoflowchannelingduetocracks.Figure2dimagesselectiveseparationofthelargest20-kbpfragmentfromamixturebytuningthefrequencyfrom2to4HzatE1=168Vcm\\x001.Smallerfragmentscanbewellseparatedatf=15HzwiththeresolutionRshigherthan2.0.Suchimprovementcomesatthecostofresolutionforthelargesttwofrag-ments,because20-kbpDNAseemstoreachitsmaximumdeflection.Huangetal.alsoobservedthefielddependencyofangularDNAseparationina“DNAprism”microdevice.[19]However,thereisalackofclearstudiesonhowtheconditionsandseparationsarecorrelated.OursystematicalinvestigationclearlydepictapeakingresponseofDNAdeflec-tionangletofrequencyandacharacteristicsizedependencyofthemaximumdeflectionangle,whichhavenotbeenreportedpreviously.Figure3a–cshowsthat,asthefrequencyincreases,thedeflectionanglesarisefromalowerplateautoamaximumFigure1.Microfluidicpatterningoflargecrack-freecolloidalcrystallinearrays.a)Schematicofusingmultipleevaporationchannelstoassemblelarge-areacolloidalarrayswithincomplexmicrodevices.b)Designofa2DDNAmicrofractionatorbasedonself-assembledcrystallinearrays.c)APDMSchippackedwith0.9mmsilicaspheresshowsBraggdiffractionoflight.d)Transmissionmicrographofanas-prepared300nmsilicaarray.e)SEMimageandf)normalincidencetransmissionspectrumoflarge-area330nmsilicaarrays.Figure2.ContinuousDNAfractionation.a)Schematicofbiasedreorientationmechanismunderasymmetricpulsedfields(E1>E2).StretchedDNAchainsmigrateadistance(d1)againstE1.AsE2isswitchedon,theyreorientatdifferentspotsaccordingtolengthandbacktrackadistance(d2),ledbytheirprevioustrailingends.Thus,theyaredifferentiatedindirectionsofnetmotion:thelargerchainismoredeflectedfromtheaveragefielddirectionthanthesmallone.aistheangleofvectord2relativetothenormal.b)Continuous-flowseparationofDNA.qisdefinedasthedeflectionanglebetweenaDNAstreamandthenormal.c)Fluorescenceimagesoffractionating2–20kbpDNAina330nmsilicaarray(E1=112Vcm\\x001,f=10Hz)takenfromthetop,middle,andbottomofthechamber,respectively.Thecollectingchannelsinthebottomframewereoutlinedforclarity.d)DNAseparationsatvariousfrequencies(E1=168Vcm\\x001).Theintensityprofiles(right)wereobtainedfromthefluorescentimages(left)byscanningrightabovethecollectingchannels(asindicatedbythegrayarrow),withthecenterof2-kbppeak(orco-migratingpeak)definedastheoriginofthehorizontalaxis.AngewandteChemie6389Angew.Chem.Int.Ed.2008,47,6388–6391\\x172008Wiley-VCHVerlagGmbH&Co.KGaA,Weinheimwww.angewandte.org\\x0caccordingtoDNAsizes,leadingtothesizeandfrequencydependentseparationoffourDNAfragments.Thisisconsistentwiththesimplemodel,drawninFigure2a,whichconsidersaDNAchainasaflexiblerodofaconstantextension(seeSupportingInformationforthediscussion).Astrikingfeatureisthesizedependencyofqmax.Figure3dplotsqmaxagainstDNAsize,whichclearlymanifeststhatqmaxisacharacteristicmeasureofthesizeforDNAof6–48kbp.ThisobservationiscontrarytothepredictionofthedeterministicmodelofconstantDNAlength,thatis,qmax\\x19458,regardlessofsize,whichimpliesthatmoleculardynamicsofDNAelectrophoresissignificantlyaffectsthedeflectionbehavior.Weproposethatthestochasticfluctua-tionofDNAlengthshouldplayanimportantroleinthesizedependencyofqmax.[27]AssumethataDNAchainreachesthemaximumdeflectionatagivenfrequency,thatis,itsextensionl=d2.InacyclewithpositivefluctuationsuperimposedonitslengthattheendofpulseE2(l+Dl>d2),thechaincannotcompletethereorientationbyE2andstilldriftsalongthestrongerfieldE1.Butanegativefluctuation(l\\x00Dl<d2)inanothercycleallowsittobacktrackcompletelyawayfromtheslidingpointattheendofpulseE2,causinglessdeflection.Aftermanycycles,themoleculefollowsanaverageqmaxthatissmallerthana,theupperlimitsetbythefieldE1.Therefore,qmaxreflectstheextentoffluctuationofDNAchains.Thelongitudinalfluctuation-in-a-tubemodeldevelopedforpulsed-fieldgelelectrophoresisproposesthattheaver-agedrelativefluctuationscaleswithmolecularsize,N,byDl/l~1/ﬃﬃﬃﬃNp.[27]Thisscalingpredictssmallerrelativefluctua-tionforlargerDNA,qualitativelyconsistentwithFigure3d.Single-moleculeimagingofl-DNAdisplaysthelengthfluctuationandconformationchangesduringtheirepisodicmotioninthemaximumdeflectionregime(SupportingInformation,Movie1).ThepreciseunderstandingofthesizedependencyofqmaxrequiresquantitativeanalysisandnumericalsimulationtocapturethetransientdynamicsofDNAmolecules.Suchananalysisiscrucialforstudyingthesizeselectivityandbanddispersionoftheangularseparationincolloidalarrays.Thedeflectionangledecreaseswithincreasingfafterthemaximumdeflection,andDNAchainswereobservedtodriftatslowspeeds,contrarytoadynamictrappingregimethatthesimplifiedmodelpictures(SupportingInformation).ItwasseenthatDNAchainsdevelopedrandomherniasathighfrequencies,sothatthemoleculeispoorlyorientedwitheitherfieldvector(SupportingInformation,Movie2).Ineffect,thissuppressestheratcheteffectofasymmetricpulsedfields,whichcouldaccountforthedecreaseofdeflectionangles.The2-kbpDNArespondsdifferentlytofrequencythanlargerDNAanditsqmaxdeviatesqualitativelyfromthetrendforothers(Figure3),implyingachangeofseparationmechanism.Thecontourlengthofa2-kbpdsDNAisca.680nm,spanningonlytwo330nmspheres.TakingintoaccountthepartialextensionandfastrelaxationofshortDNA,itismorelikelyfor2-kbpDNAtoreptatealongazigzagpath,[27,28]incontrasttothecharacteristicchevronpatterninthereorientationmechanism.Thisindicatestheeffectoflatticedimensiononthelowersizelimitofefficientseparation.Figure3dsuggeststhemechanismtransitionoccursnear6kbpinthis330nmcolloidalarray.Toevaluatetheeffectoffieldstrengthonseparationresolution,wecomparedtheseparationsatvariousfieldstrengthsthatyieldthehighestpeakcapacitiesnc,maxbetween2and20kbp(Figure3).Wedeterminednc,max=4atf=6HzforE1=70Vcm\\x001,nc,max=7atf=10HzforE1=112Vcm\\x001,andnc,max=8atf=15HzforE1=168Vcm\\x001.ThosevalueswereplottedinFigure4a,whichshowsthatbetterseparationcanbeachievedunderhigherfieldstrengthandthattheimprovementismainlyintherangeof2–10kbp.ThiscouldbeattributedtothesizedependencyofDNAelectrophoreticstretching.[29,30]HighfieldstrengthisdesiredforbetterstretchingofshortDNA,andthecorrespondinghighfrequencyfavorstheseparationofshortDNAaswell,byFigure3.EffectsofpulsedfieldonDNAdeflection.a–c)FrequencyspectraofdeflectionangleqforvariousDNAfragments(~:20kbp,*:10kbp,!:6kbp,&:2kbp)underdifferentfieldstrength.Anglesweremeasuredfromthemiddleoftheseparationchambertominimizetheeffectoffielddistortion.Linesaredrawntoguideeyes.d)SemilogplotofqmaxagainstDNAmolecularweightwithleast-squareslinearfit.Errorbarsshowstandarddeviations(n=3).~:E1=70Vcm\\x001,&:E1=112Vcm\\x001,*:E1=168Vcm\\x001.Figure4.Effectsofpulsedfieldandporesizeonseparationresolution.a)Plotsofqobtainedinthreeseparationsasafunctionofmolecularweight.Foreachfieldstrength,frequencywaschosentogivethehighestpeakcapacitybetween2and20kbp.&:E1=70Vcm\\x001,f=6Hz;*:E1=112Vcm\\x001,f=10Hz;~:E1=168Vcm\\x001,f=15Hz.b)Separationofl-DNA/HindIIIdigestsusing900nmand330nmsilicabeads(E1=84Vcm\\x001,f=5Hz).Communications6390www.angewandte.org\\x172008Wiley-VCHVerlagGmbH&Co.KGaA,WeinheimAngew.Chem.Int.Ed.2008,47,6388–6391\\x0cshorteningtherelaxationtimethatscaleswiththemolecularsizeNast~N2.[31,32]Figure4bdemonstratestheimpactofporesizeontheangularseparationinwhichseparationbetweensmallerfragmentsofl-DNA/HindIIIdigestswasobtainedbydecreasingbeadsizefrom900to330nm.Theresolutionimprovementcanbeascribedtothephysicalconfinement,whichprofoundlyaffectsDNAstretchingandrelaxation.[31,32]TighterconfinementcanimproveelectrophoreticstretchingandslowdowntherelaxationofconfinedDNAmolecules.[30]Crystallinearraysoffersdirectcontrolofporesize(equiv-alenttoca.15%thebeadsize)toadjusttheseparationpowerforDNAspeciesofinterest.Suchflexibilityisespeciallydesirablefortheapplications,suchassequencingsingle-strandedDNA,[28]whichisperformedonalengthscalestillchallengingforconventionalnanofabricationtechniquestoaccess.Inconclusion,wehavedemonstratedageneralmicro-fluidicapproachforpatterninglarge-scalecolloidalnano-arraysintomicrodevices,whichpresentstwomajormerits:first,theuseofmultipleevaporationmicrochannelsavoidstheformationofdrying-inducedcracksduringcolloidalcrystallization;second,themethodfeaturessimplemicro-fabrication,fastcolloidaldeposition,andextremelylowcost.Usingthetechnique,wefabricateda2Dmicrosystemforhigh-throughputseparationof2–50kbpDNA.OurstudiesontheeffectsofpulsedelectricfieldandporesizepresentaclearguidanceforchoosingproperfieldconditionstosortDNAsamplesofinterest.Received:February19,2008Revised:April30,2008Publishedonline:July15,2008.Keywords:colloidalselfassembly·DNA·high-throughputseparation·microfluidics·nanofabrication[1]G.M.Whitesides,B.Grzybowski,Science2002,295,2418.[2]Y.N.Xia,B.Gates,Y.D.Yin,Y.Lu,Adv.Mater.2000,12,693.[3]R.Mezzenga,J.Ruokolainen,G.H.Fredrickson,E.J.Kramer,D.Moses,A.J.Heeger,O.Ikkala,Science2003,299,1872.[4]Y.A.Vlasov,X.Z.Bo,J.C.Sturm,D.J.Norris,Nature2001,414,289.[5]M.Ben-Moshe,V.L.Alexeev,S.A.Asher,Anal.Chem.2006,78,5149.[6]S.P.Zheng,E.Ross,M.A.Legg,M.J.Wirth,J.Am.Chem.Soc.2006,128,9016.[7]Y.Zeng,D.J.Harrison,Anal.Chem.2007,79,2289.[8]D.Nykypanchuk,H.H.Strey,D.A.Hoagland,Science2002,297,987.[9]L.Meistermann,B.Tinland,Phys.Rev.E2000,62,4014.[10]Y.Zeng,D.J.Harrison,Electrophoresis2006,27,3747.[11]C.J.Jin,M.A.McLachlan,D.W.McComb,R.M.DeLaRue,N.P.Johnson,NanoLett.2005,5,2646.[12]S.Wong,V.Kitaev,G.A.Ozin,J.Am.Chem.Soc.2003,125,15589.[13]J.Y.Shiu,C.W.Kuo,P.L.Chen,J.Am.Chem.Soc.2004,126,8096.[14]B.T.Mayers,B.Gates,Y.N.Xia,Adv.Mater.2000,12,1629.[15]S.M.Yang,H.Miguez,G.A.Ozin,Adv.Funct.Mater.2002,12,425.[16]R.C.Hayward,D.A.Saville,I.A.Aksay,Nature2000,404,56.[17]Y.Masuda,T.Itoh,K.Koumoto,Langmuir2005,21,4478.[18]J.Han,H.G.Craighead,Science2000,288,1026.[19]L.R.Huang,J.O.Tegenfeldt,J.J.Kraeft,J.C.Sturm,R.H.Austin,E.C.Cox,Nat.Biotechnol.2002,20,1048.[20]L.R.Huang,E.C.Cox,R.H.Austin,J.C.Sturm,Science2004,304,987.[21]J.P.Fu,R.B.Schoch,A.L.Stevens,S.R.Tannenbaum,J.Y.Han,Nat.Nanotechnol.2007,2,121.[22]E.R.Dufresne,E.I.Corwin,N.A.Greenblatt,J.Ashmore,D.Y.Wang,A.D.Dinsmore,J.X.Cheng,X.S.Xie,J.W.Hutchinson,D.A.Weitz,Phys.Rev.Lett.2003,91,224501.[23]C.Allain,L.Limat,Phys.Rev.Lett.1995,74,2981.[24]W.P.Lee,A.F.Routh,Langmuir2004,20,9885.[25]H.L.Li,W.T.Dong,H.J.Bongard,F.Marlow,J.Phys.Chem.B2005,109,9939.[26]L.R.Huang,J.O.Tegenfeldt,J.J.Kraeft,J.C.Sturm,R.H.Austin,E.C.Cox,Tech.Dig.Int.ElectronDevicesMeet.2002,363.[27]J.L.Viovy,Electrophoresis1989,10,429.[28]T.A.J.Duke,R.H.Austin,E.C.Cox,S.S.Chan,Electro-phoresis1996,17,1075.[29]J.F.Marko,E.D.Siggia,Macromolecules1995,28,8759.[30]O.B.Bakajin,T.A.J.Duke,C.F.Chou,S.S.Chan,R.H.Austin,E.C.Cox,Phys.Rev.Lett.1998,80,2737.[31]W.Reisner,K.J.Morton,R.Riehn,Y.M.Wang,Z.N.Yu,M.Rosen,J.C.Sturm,S.Y.Chou,E.Frey,R.H.Austin,Phys.Rev.Lett.2005,94,196101.[32]J.O.Tegenfeldt,C.Prinz,H.Cao,S.Chou,W.W.Reisner,R.Riehn,Y.M.Wang,E.C.Cox,J.C.Sturm,P.Silberzan,R.H.Austin,Proc.Natl.Acad.Sci.USA2004,101,10979.AngewandteChemie6391Angew.Chem.Int.Ed.2008,47,6388–6391\\x172008Wiley-VCHVerlagGmbH&Co.KGaA,Weinheimwww.angewandte.org\\x0c'"
      ]
     },
     "execution_count": 3,
     "metadata": {},
     "output_type": "execute_result"
    }
   ],
   "source": [
    "extract_text_from_pdf('../example/Zeng_et_al-2008-Angewandte_Chemie_(International_ed._in_English).pdf')"
   ]
  },
  {
   "cell_type": "code",
   "execution_count": 4,
   "metadata": {},
   "outputs": [],
   "source": [
    "def extract_text_by_page(pdf_path):\n",
    "    with open(pdf_path, 'rb') as fh:\n",
    "        for page in PDFPage.get_pages(fh, \n",
    "                                      caching=True,\n",
    "                                      check_extractable=True):\n",
    "            resource_manager = PDFResourceManager()\n",
    "            fake_file_handle = io.StringIO()\n",
    "            converter = TextConverter(resource_manager, fake_file_handle)\n",
    "            page_interpreter = PDFPageInterpreter(resource_manager, converter)\n",
    "            page_interpreter.process_page(page)\n",
    " \n",
    "            text = fake_file_handle.getvalue()\n",
    "            yield text\n",
    " \n",
    "            # close open handles\n",
    "            converter.close()\n",
    "            fake_file_handle.close()"
   ]
  },
  {
   "cell_type": "code",
   "execution_count": 5,
   "metadata": {},
   "outputs": [],
   "source": [
    "def extract_text(pdf_path):\n",
    "    for page in extract_text_by_page(pdf_path):\n",
    "        print(page)\n",
    "        print()"
   ]
  },
  {
   "cell_type": "code",
   "execution_count": 6,
   "metadata": {},
   "outputs": [
    {
     "name": "stdout",
     "output_type": "stream",
     "text": [
      "MicrofluidicsDOI:10.1002/anie.200800816MicrofluidicSelf-PatterningofLarge-ScaleCrystallineNanoarraysforHigh-ThroughputContinuousDNAFractionation**YongZeng,MeiHe,andD.JedHarrison*Self-assemblyoffersanattractiveroutetoproducemacro-scopicfunctionalensemblesfrommicroscopicbuildingblocks,suchasmacromolecules,colloids,andnanotubes.[1,2]Spontaneousorganizationofmonodispersedcolloidsintocrystallinearrays,dubbedcolloidalselfassembly(CSA),hasbeenextensivelyexploredinavarietyofareas,suchasthedesignofmaterials,[3]photonics,[4]sensors,[5]andmolecularmanipulationandseparation.[6–10]Highqualitycolloidalfilmswithminimallatticedefectsandlargedomainsizehavebeenachieved.[11,12]Successinmanyapplicationswillalsodemandtheabilitytopatternself-assembledcolloidallatticesintowell-definedarchitecturesandwithinintegratedmicrosys-tems.Anumberofpatterningmethodshavebeendeveloped,includingphysicalconfinement,[13–15]electricfield-assistedpatterning,[16]andsurface-directedpatterning.[17]Large-scalecolloidalpatterning,however,stillsuffersfromlongprocess-ingtimeandmajordefects,particularlycracks.Herein,wereportamicrofluidicapproachforpatterninglarge-areacolloidalarraysintocomplexmicrodevices,whichcontrolsevaporation-inducedcolloidalcrystallizationtoavoidtheformationofcracks.Toexemplifytheapplicationofthistechnique,apatternedlarge-areacolloidalnanoarraywasdemonstratedasmolec-ularsortingstructureforcontinuousseparationofDNA.Itscounterparts,lithographicallyfabricatedmicro-/nanostruc-tureshavebeenwidelyusedforbioseparations.[18–21]How-ever,theirpracticalapplicationsarelargelyimpededbycurrenttechnicallimitationsofnanolithography,suchashighcost,tediousfabrication,andchallengesinfabricationat10nmlengthscales.Inthisregard,CSAprovidesasimpleandcost-effectivealternative,especiallyforlarge-areapatterningofnanoscalefeatures.Forinstance,comparedtotwo-dimen-sional(2D)microfabricatedpostarrays,[19,20]ourdevicedemandsmuchlesseffortandcostoffabrication;itpossessesa3Dperiodicporousstructure,whicheasesoperationandimprovessamplethroughput;anditoffersgreatflexibilityinvaryingporesizetotargetcertainmolecularsizeranges.Preparationoflargecrack-freecolloidalstructuresaremuchmorechallengingthanassemblingnarrow1Dbandsbyasingle-channelCSAapproach,[7]duetotheheterogeneouscapillarystressbuiltacrossalargeareaduringsolventevaporation.CSAinslabfluidiccellscommonlyusedforgrowinglarge-areacolloidalfilmsgeneratesapatternofcrackswhicharespacedperiodicallyalongtheevaporatingedgeandpropagateparallelfromtheendintothebulk.[22,23]Capillarystresswasfoundtobethedrivingforceforfilmfracturingandthespatialperiodofcrackswasthoughttobesetbythecharacteristiclengthofstressvariationalongthedryingedge,whichreflectsthebalancebetweenevaporation-inducedcapillarypressureandstressrelaxationbycrackopening.[23,24]Ourmicrofluidicself-patterningapproach,illus-tratedinFigure1a,usesmultiplemicrochannelstoguideCSAwithinlarge-scalemicrodevices.Themicrochannelsreducethestressnonuniformitybydividingwideopenedgesintosegmentsshorterthanthecharacteristiclengthscaleabovewhichcrackingoccurs,andpreventthedryingfrontfrompenetratingintothebulk.[7]Figure1bpresentsthedesignofa2DDNAsortingmicrodevicebasedonthismethodology.Itconsistsofa44mm2squarechamberconnectedtothereservoirsvia20microchannels(100mm5mm,200mmperiodicity)oneachside.Themicrochannelarraysweredesignedbyconsideringbothexperimentalmeasurementsofcrackspacingintheliterature[24,25]andthegenerationoffairlyuniformelectricfieldsoverthelargechamber.[26]Figure1cshowsthataPDMSdevicepackedwith0.9mmsilicabeadsexhibitsaspectrumofiridescentcolorsunderwhitelightillumination,duetoBraggscatteringfromthe3Dperiodiclattice.InFigure1d,anas-prepared330nmsilicananoarrayshowsauniformlytranslucentpattern,indicatingthepresenceofinterstitialwaterandnocracksformed.SEMimagingconfirmsthelong-rangcrystallinestructureofclose-packed330nmspheres,withthe(111)planeparalleltothesubstrate(Figure1e).Alowdensityoflatticedefectswasalsoseen,whichmayaffecttheseparationperformance;buttheyarerandomlydistributedsothatnoaccumulativeeffectslikeflowchannelingwillarise.Large-areacolloidalarraysallowustomeasuretheiropticalpropertiesasseeninFigure1e.Thecharacteristicstopbandatlmax=615nmcorrespondstothefirst-orderBraggdiffractionfromadried330nmsilicananoarray.Thesmalldeviationoflmaxbetweenthefreshlypreparednanoarrays(lmax=613.0\u00062.8nm,n=5)andthosepreviouslyusedforseparations(lmax=617.0\u00065.6nm,n=4)impliesfairlygoodstabilityofself-patternednanoarraysunderappliedpulsingelectricfieldsupto170Vcm\u00001.Thewholedevicecanbepackedwithinlessthan6hrsfor10%w/v330nmbeadsunderambientconditions,whichismuchfasterthantheapproachesusingsedimentation[9]andbarrierstructure.[14][*]Y.Zeng,M.He,Prof.D.J.HarrisonDepartmentofChemistry,UniversityofAlbertaEdmontonAB,T6G2G2(Canada)Fax:(+1)780-492-8231E-mail:jed.harrison@ualberta.ca[**]ThisworkwassupportedbytheNaturalSciencesandEngineeringResearchCouncilofCanada(NSERC).MicrofabricationinthisworkwasdoneatNanofab,UniversityofAlberta.SupportinginformationforthisarticleisavailableontheWWWunderhttp://dx.doi.org/10.1002/anie.200800816.Communications6388\u00172008Wiley-VCHVerlagGmbH&Co.KGaA,WeinheimAngew.Chem.Int.Ed.2008,47,6388–6391\f",
      "\n",
      "\n",
      "Continuous-flowseparationunderasymmetricpulsedfieldsisbasedonthebiasedreorientationmechanism,whereDNAfragmentscanbeseparatedintoindividualflowstreamsofdifferentdeflectionangles,q,asdetailedinFigure2aandb.[19]Inourcase,allseparationswereper-formedusing330nmnanoarrays,unlessotherwisemen-tioned,andca.1358pulsedfields(E1\u00191.4E2)appliedacrosstheseparationbeds.AclearseparationoffourDNAfrag-mentsof2–20kbpisseeninFigure2c,showingsmoothDNAstreamswithnoflowchannelingduetocracks.Figure2dimagesselectiveseparationofthelargest20-kbpfragmentfromamixturebytuningthefrequencyfrom2to4HzatE1=168Vcm\u00001.Smallerfragmentscanbewellseparatedatf=15HzwiththeresolutionRshigherthan2.0.Suchimprovementcomesatthecostofresolutionforthelargesttwofrag-ments,because20-kbpDNAseemstoreachitsmaximumdeflection.Huangetal.alsoobservedthefielddependencyofangularDNAseparationina“DNAprism”microdevice.[19]However,thereisalackofclearstudiesonhowtheconditionsandseparationsarecorrelated.OursystematicalinvestigationclearlydepictapeakingresponseofDNAdeflec-tionangletofrequencyandacharacteristicsizedependencyofthemaximumdeflectionangle,whichhavenotbeenreportedpreviously.Figure3a–cshowsthat,asthefrequencyincreases,thedeflectionanglesarisefromalowerplateautoamaximumFigure1.Microfluidicpatterningoflargecrack-freecolloidalcrystallinearrays.a)Schematicofusingmultipleevaporationchannelstoassemblelarge-areacolloidalarrayswithincomplexmicrodevices.b)Designofa2DDNAmicrofractionatorbasedonself-assembledcrystallinearrays.c)APDMSchippackedwith0.9mmsilicaspheresshowsBraggdiffractionoflight.d)Transmissionmicrographofanas-prepared300nmsilicaarray.e)SEMimageandf)normalincidencetransmissionspectrumoflarge-area330nmsilicaarrays.Figure2.ContinuousDNAfractionation.a)Schematicofbiasedreorientationmechanismunderasymmetricpulsedfields(E1>E2).StretchedDNAchainsmigrateadistance(d1)againstE1.AsE2isswitchedon,theyreorientatdifferentspotsaccordingtolengthandbacktrackadistance(d2),ledbytheirprevioustrailingends.Thus,theyaredifferentiatedindirectionsofnetmotion:thelargerchainismoredeflectedfromtheaveragefielddirectionthanthesmallone.aistheangleofvectord2relativetothenormal.b)Continuous-flowseparationofDNA.qisdefinedasthedeflectionanglebetweenaDNAstreamandthenormal.c)Fluorescenceimagesoffractionating2–20kbpDNAina330nmsilicaarray(E1=112Vcm\u00001,f=10Hz)takenfromthetop,middle,andbottomofthechamber,respectively.Thecollectingchannelsinthebottomframewereoutlinedforclarity.d)DNAseparationsatvariousfrequencies(E1=168Vcm\u00001).Theintensityprofiles(right)wereobtainedfromthefluorescentimages(left)byscanningrightabovethecollectingchannels(asindicatedbythegrayarrow),withthecenterof2-kbppeak(orco-migratingpeak)definedastheoriginofthehorizontalaxis.AngewandteChemie6389Angew.Chem.Int.Ed.2008,47,6388–6391\u00172008Wiley-VCHVerlagGmbH&Co.KGaA,Weinheimwww.angewandte.org\f",
      "\n",
      "\n",
      "accordingtoDNAsizes,leadingtothesizeandfrequencydependentseparationoffourDNAfragments.Thisisconsistentwiththesimplemodel,drawninFigure2a,whichconsidersaDNAchainasaflexiblerodofaconstantextension(seeSupportingInformationforthediscussion).Astrikingfeatureisthesizedependencyofqmax.Figure3dplotsqmaxagainstDNAsize,whichclearlymanifeststhatqmaxisacharacteristicmeasureofthesizeforDNAof6–48kbp.ThisobservationiscontrarytothepredictionofthedeterministicmodelofconstantDNAlength,thatis,qmax\u0019458,regardlessofsize,whichimpliesthatmoleculardynamicsofDNAelectrophoresissignificantlyaffectsthedeflectionbehavior.Weproposethatthestochasticfluctua-tionofDNAlengthshouldplayanimportantroleinthesizedependencyofqmax.[27]AssumethataDNAchainreachesthemaximumdeflectionatagivenfrequency,thatis,itsextensionl=d2.InacyclewithpositivefluctuationsuperimposedonitslengthattheendofpulseE2(l+Dl>d2),thechaincannotcompletethereorientationbyE2andstilldriftsalongthestrongerfieldE1.Butanegativefluctuation(l\u0000Dl<d2)inanothercycleallowsittobacktrackcompletelyawayfromtheslidingpointattheendofpulseE2,causinglessdeflection.Aftermanycycles,themoleculefollowsanaverageqmaxthatissmallerthana,theupperlimitsetbythefieldE1.Therefore,qmaxreflectstheextentoffluctuationofDNAchains.Thelongitudinalfluctuation-in-a-tubemodeldevelopedforpulsed-fieldgelelectrophoresisproposesthattheaver-agedrelativefluctuationscaleswithmolecularsize,N,byDl/l~1/ﬃﬃﬃﬃNp.[27]Thisscalingpredictssmallerrelativefluctua-tionforlargerDNA,qualitativelyconsistentwithFigure3d.Single-moleculeimagingofl-DNAdisplaysthelengthfluctuationandconformationchangesduringtheirepisodicmotioninthemaximumdeflectionregime(SupportingInformation,Movie1).ThepreciseunderstandingofthesizedependencyofqmaxrequiresquantitativeanalysisandnumericalsimulationtocapturethetransientdynamicsofDNAmolecules.Suchananalysisiscrucialforstudyingthesizeselectivityandbanddispersionoftheangularseparationincolloidalarrays.Thedeflectionangledecreaseswithincreasingfafterthemaximumdeflection,andDNAchainswereobservedtodriftatslowspeeds,contrarytoadynamictrappingregimethatthesimplifiedmodelpictures(SupportingInformation).ItwasseenthatDNAchainsdevelopedrandomherniasathighfrequencies,sothatthemoleculeispoorlyorientedwitheitherfieldvector(SupportingInformation,Movie2).Ineffect,thissuppressestheratcheteffectofasymmetricpulsedfields,whichcouldaccountforthedecreaseofdeflectionangles.The2-kbpDNArespondsdifferentlytofrequencythanlargerDNAanditsqmaxdeviatesqualitativelyfromthetrendforothers(Figure3),implyingachangeofseparationmechanism.Thecontourlengthofa2-kbpdsDNAisca.680nm,spanningonlytwo330nmspheres.TakingintoaccountthepartialextensionandfastrelaxationofshortDNA,itismorelikelyfor2-kbpDNAtoreptatealongazigzagpath,[27,28]incontrasttothecharacteristicchevronpatterninthereorientationmechanism.Thisindicatestheeffectoflatticedimensiononthelowersizelimitofefficientseparation.Figure3dsuggeststhemechanismtransitionoccursnear6kbpinthis330nmcolloidalarray.Toevaluatetheeffectoffieldstrengthonseparationresolution,wecomparedtheseparationsatvariousfieldstrengthsthatyieldthehighestpeakcapacitiesnc,maxbetween2and20kbp(Figure3).Wedeterminednc,max=4atf=6HzforE1=70Vcm\u00001,nc,max=7atf=10HzforE1=112Vcm\u00001,andnc,max=8atf=15HzforE1=168Vcm\u00001.ThosevalueswereplottedinFigure4a,whichshowsthatbetterseparationcanbeachievedunderhigherfieldstrengthandthattheimprovementismainlyintherangeof2–10kbp.ThiscouldbeattributedtothesizedependencyofDNAelectrophoreticstretching.[29,30]HighfieldstrengthisdesiredforbetterstretchingofshortDNA,andthecorrespondinghighfrequencyfavorstheseparationofshortDNAaswell,byFigure3.EffectsofpulsedfieldonDNAdeflection.a–c)FrequencyspectraofdeflectionangleqforvariousDNAfragments(~:20kbp,*:10kbp,!:6kbp,&:2kbp)underdifferentfieldstrength.Anglesweremeasuredfromthemiddleoftheseparationchambertominimizetheeffectoffielddistortion.Linesaredrawntoguideeyes.d)SemilogplotofqmaxagainstDNAmolecularweightwithleast-squareslinearfit.Errorbarsshowstandarddeviations(n=3).~:E1=70Vcm\u00001,&:E1=112Vcm\u00001,*:E1=168Vcm\u00001.Figure4.Effectsofpulsedfieldandporesizeonseparationresolution.a)Plotsofqobtainedinthreeseparationsasafunctionofmolecularweight.Foreachfieldstrength,frequencywaschosentogivethehighestpeakcapacitybetween2and20kbp.&:E1=70Vcm\u00001,f=6Hz;*:E1=112Vcm\u00001,f=10Hz;~:E1=168Vcm\u00001,f=15Hz.b)Separationofl-DNA/HindIIIdigestsusing900nmand330nmsilicabeads(E1=84Vcm\u00001,f=5Hz).Communications6390www.angewandte.org\u00172008Wiley-VCHVerlagGmbH&Co.KGaA,WeinheimAngew.Chem.Int.Ed.2008,47,6388–6391\f",
      "\n",
      "\n",
      "shorteningtherelaxationtimethatscaleswiththemolecularsizeNast~N2.[31,32]Figure4bdemonstratestheimpactofporesizeontheangularseparationinwhichseparationbetweensmallerfragmentsofl-DNA/HindIIIdigestswasobtainedbydecreasingbeadsizefrom900to330nm.Theresolutionimprovementcanbeascribedtothephysicalconfinement,whichprofoundlyaffectsDNAstretchingandrelaxation.[31,32]TighterconfinementcanimproveelectrophoreticstretchingandslowdowntherelaxationofconfinedDNAmolecules.[30]Crystallinearraysoffersdirectcontrolofporesize(equiv-alenttoca.15%thebeadsize)toadjusttheseparationpowerforDNAspeciesofinterest.Suchflexibilityisespeciallydesirablefortheapplications,suchassequencingsingle-strandedDNA,[28]whichisperformedonalengthscalestillchallengingforconventionalnanofabricationtechniquestoaccess.Inconclusion,wehavedemonstratedageneralmicro-fluidicapproachforpatterninglarge-scalecolloidalnano-arraysintomicrodevices,whichpresentstwomajormerits:first,theuseofmultipleevaporationmicrochannelsavoidstheformationofdrying-inducedcracksduringcolloidalcrystallization;second,themethodfeaturessimplemicro-fabrication,fastcolloidaldeposition,andextremelylowcost.Usingthetechnique,wefabricateda2Dmicrosystemforhigh-throughputseparationof2–50kbpDNA.OurstudiesontheeffectsofpulsedelectricfieldandporesizepresentaclearguidanceforchoosingproperfieldconditionstosortDNAsamplesofinterest.Received:February19,2008Revised:April30,2008Publishedonline:July15,2008.Keywords:colloidalselfassembly·DNA·high-throughputseparation·microfluidics·nanofabrication[1]G.M.Whitesides,B.Grzybowski,Science2002,295,2418.[2]Y.N.Xia,B.Gates,Y.D.Yin,Y.Lu,Adv.Mater.2000,12,693.[3]R.Mezzenga,J.Ruokolainen,G.H.Fredrickson,E.J.Kramer,D.Moses,A.J.Heeger,O.Ikkala,Science2003,299,1872.[4]Y.A.Vlasov,X.Z.Bo,J.C.Sturm,D.J.Norris,Nature2001,414,289.[5]M.Ben-Moshe,V.L.Alexeev,S.A.Asher,Anal.Chem.2006,78,5149.[6]S.P.Zheng,E.Ross,M.A.Legg,M.J.Wirth,J.Am.Chem.Soc.2006,128,9016.[7]Y.Zeng,D.J.Harrison,Anal.Chem.2007,79,2289.[8]D.Nykypanchuk,H.H.Strey,D.A.Hoagland,Science2002,297,987.[9]L.Meistermann,B.Tinland,Phys.Rev.E2000,62,4014.[10]Y.Zeng,D.J.Harrison,Electrophoresis2006,27,3747.[11]C.J.Jin,M.A.McLachlan,D.W.McComb,R.M.DeLaRue,N.P.Johnson,NanoLett.2005,5,2646.[12]S.Wong,V.Kitaev,G.A.Ozin,J.Am.Chem.Soc.2003,125,15589.[13]J.Y.Shiu,C.W.Kuo,P.L.Chen,J.Am.Chem.Soc.2004,126,8096.[14]B.T.Mayers,B.Gates,Y.N.Xia,Adv.Mater.2000,12,1629.[15]S.M.Yang,H.Miguez,G.A.Ozin,Adv.Funct.Mater.2002,12,425.[16]R.C.Hayward,D.A.Saville,I.A.Aksay,Nature2000,404,56.[17]Y.Masuda,T.Itoh,K.Koumoto,Langmuir2005,21,4478.[18]J.Han,H.G.Craighead,Science2000,288,1026.[19]L.R.Huang,J.O.Tegenfeldt,J.J.Kraeft,J.C.Sturm,R.H.Austin,E.C.Cox,Nat.Biotechnol.2002,20,1048.[20]L.R.Huang,E.C.Cox,R.H.Austin,J.C.Sturm,Science2004,304,987.[21]J.P.Fu,R.B.Schoch,A.L.Stevens,S.R.Tannenbaum,J.Y.Han,Nat.Nanotechnol.2007,2,121.[22]E.R.Dufresne,E.I.Corwin,N.A.Greenblatt,J.Ashmore,D.Y.Wang,A.D.Dinsmore,J.X.Cheng,X.S.Xie,J.W.Hutchinson,D.A.Weitz,Phys.Rev.Lett.2003,91,224501.[23]C.Allain,L.Limat,Phys.Rev.Lett.1995,74,2981.[24]W.P.Lee,A.F.Routh,Langmuir2004,20,9885.[25]H.L.Li,W.T.Dong,H.J.Bongard,F.Marlow,J.Phys.Chem.B2005,109,9939.[26]L.R.Huang,J.O.Tegenfeldt,J.J.Kraeft,J.C.Sturm,R.H.Austin,E.C.Cox,Tech.Dig.Int.ElectronDevicesMeet.2002,363.[27]J.L.Viovy,Electrophoresis1989,10,429.[28]T.A.J.Duke,R.H.Austin,E.C.Cox,S.S.Chan,Electro-phoresis1996,17,1075.[29]J.F.Marko,E.D.Siggia,Macromolecules1995,28,8759.[30]O.B.Bakajin,T.A.J.Duke,C.F.Chou,S.S.Chan,R.H.Austin,E.C.Cox,Phys.Rev.Lett.1998,80,2737.[31]W.Reisner,K.J.Morton,R.Riehn,Y.M.Wang,Z.N.Yu,M.Rosen,J.C.Sturm,S.Y.Chou,E.Frey,R.H.Austin,Phys.Rev.Lett.2005,94,196101.[32]J.O.Tegenfeldt,C.Prinz,H.Cao,S.Chou,W.W.Reisner,R.Riehn,Y.M.Wang,E.C.Cox,J.C.Sturm,P.Silberzan,R.H.Austin,Proc.Natl.Acad.Sci.USA2004,101,10979.AngewandteChemie6391Angew.Chem.Int.Ed.2008,47,6388–6391\u00172008Wiley-VCHVerlagGmbH&Co.KGaA,Weinheimwww.angewandte.org\f",
      "\n",
      "\n"
     ]
    }
   ],
   "source": [
    "extract_text('../example/Zeng_et_al-2008-Angewandte_Chemie_(International_ed._in_English).pdf')"
   ]
  },
  {
   "cell_type": "code",
   "execution_count": 7,
   "metadata": {},
   "outputs": [],
   "source": [
    "import os\n",
    "import xml.etree.ElementTree as xml\n",
    "from xml.dom import minidom"
   ]
  },
  {
   "cell_type": "code",
   "execution_count": 8,
   "metadata": {},
   "outputs": [],
   "source": [
    "def export_as_xml(pdf_path, xml_path):\n",
    "    filename = os.path.splitext(os.path.basename(pdf_path))[0]\n",
    "    root = xml.Element('{filename}'.format(filename=filename))\n",
    "    pages = xml.Element('Pages')\n",
    "    root.append(pages)\n",
    " \n",
    "    counter = 1\n",
    "    for page in extract_text_by_page(pdf_path):\n",
    "        text = xml.SubElement(pages, 'Page_{}'.format(counter))\n",
    "        text.text = page[0:100]\n",
    "        counter += 1\n",
    " \n",
    "    tree = xml.ElementTree(root)\n",
    "    xml_string = xml.tostring(root, 'utf-8')\n",
    "    parsed_string = minidom.parseString(xml_string)\n",
    "    pretty_string = parsed_string.toprettyxml(indent='  ')\n",
    " \n",
    "    with open(xml_path, 'w') as fh:\n",
    "        fh.write(pretty_string)"
   ]
  },
  {
   "cell_type": "code",
   "execution_count": 9,
   "metadata": {},
   "outputs": [
    {
     "ename": "ExpatError",
     "evalue": "not well-formed (invalid token): line 1, column 35",
     "output_type": "error",
     "traceback": [
      "\u001b[0;31m---------------------------------------------------------------------------\u001b[0m",
      "\u001b[0;31mExpatError\u001b[0m                                Traceback (most recent call last)",
      "\u001b[0;32m<ipython-input-9-730140a1b642>\u001b[0m in \u001b[0;36m<module>\u001b[0;34m\u001b[0m\n\u001b[0;32m----> 1\u001b[0;31m \u001b[0mexport_as_xml\u001b[0m\u001b[0;34m(\u001b[0m\u001b[0;34m'../example/Zeng_et_al-2008-Angewandte_Chemie_(International_ed._in_English).pdf'\u001b[0m\u001b[0;34m,\u001b[0m \u001b[0;34m'../example/output.xml'\u001b[0m\u001b[0;34m)\u001b[0m\u001b[0;34m\u001b[0m\u001b[0;34m\u001b[0m\u001b[0m\n\u001b[0m",
      "\u001b[0;32m<ipython-input-8-e78753755a9d>\u001b[0m in \u001b[0;36mexport_as_xml\u001b[0;34m(pdf_path, xml_path)\u001b[0m\n\u001b[1;32m     13\u001b[0m     \u001b[0mtree\u001b[0m \u001b[0;34m=\u001b[0m \u001b[0mxml\u001b[0m\u001b[0;34m.\u001b[0m\u001b[0mElementTree\u001b[0m\u001b[0;34m(\u001b[0m\u001b[0mroot\u001b[0m\u001b[0;34m)\u001b[0m\u001b[0;34m\u001b[0m\u001b[0;34m\u001b[0m\u001b[0m\n\u001b[1;32m     14\u001b[0m     \u001b[0mxml_string\u001b[0m \u001b[0;34m=\u001b[0m \u001b[0mxml\u001b[0m\u001b[0;34m.\u001b[0m\u001b[0mtostring\u001b[0m\u001b[0;34m(\u001b[0m\u001b[0mroot\u001b[0m\u001b[0;34m,\u001b[0m \u001b[0;34m'utf-8'\u001b[0m\u001b[0;34m)\u001b[0m\u001b[0;34m\u001b[0m\u001b[0;34m\u001b[0m\u001b[0m\n\u001b[0;32m---> 15\u001b[0;31m     \u001b[0mparsed_string\u001b[0m \u001b[0;34m=\u001b[0m \u001b[0mminidom\u001b[0m\u001b[0;34m.\u001b[0m\u001b[0mparseString\u001b[0m\u001b[0;34m(\u001b[0m\u001b[0mxml_string\u001b[0m\u001b[0;34m)\u001b[0m\u001b[0;34m\u001b[0m\u001b[0;34m\u001b[0m\u001b[0m\n\u001b[0m\u001b[1;32m     16\u001b[0m     \u001b[0mpretty_string\u001b[0m \u001b[0;34m=\u001b[0m \u001b[0mparsed_string\u001b[0m\u001b[0;34m.\u001b[0m\u001b[0mtoprettyxml\u001b[0m\u001b[0;34m(\u001b[0m\u001b[0mindent\u001b[0m\u001b[0;34m=\u001b[0m\u001b[0;34m'  '\u001b[0m\u001b[0;34m)\u001b[0m\u001b[0;34m\u001b[0m\u001b[0;34m\u001b[0m\u001b[0m\n\u001b[1;32m     17\u001b[0m \u001b[0;34m\u001b[0m\u001b[0m\n",
      "\u001b[0;32m/usr/local/Cellar/python/3.7.2_2/Frameworks/Python.framework/Versions/3.7/lib/python3.7/xml/dom/minidom.py\u001b[0m in \u001b[0;36mparseString\u001b[0;34m(string, parser)\u001b[0m\n\u001b[1;32m   1966\u001b[0m     \u001b[0;32mif\u001b[0m \u001b[0mparser\u001b[0m \u001b[0;32mis\u001b[0m \u001b[0;32mNone\u001b[0m\u001b[0;34m:\u001b[0m\u001b[0;34m\u001b[0m\u001b[0;34m\u001b[0m\u001b[0m\n\u001b[1;32m   1967\u001b[0m         \u001b[0;32mfrom\u001b[0m \u001b[0mxml\u001b[0m\u001b[0;34m.\u001b[0m\u001b[0mdom\u001b[0m \u001b[0;32mimport\u001b[0m \u001b[0mexpatbuilder\u001b[0m\u001b[0;34m\u001b[0m\u001b[0;34m\u001b[0m\u001b[0m\n\u001b[0;32m-> 1968\u001b[0;31m         \u001b[0;32mreturn\u001b[0m \u001b[0mexpatbuilder\u001b[0m\u001b[0;34m.\u001b[0m\u001b[0mparseString\u001b[0m\u001b[0;34m(\u001b[0m\u001b[0mstring\u001b[0m\u001b[0;34m)\u001b[0m\u001b[0;34m\u001b[0m\u001b[0;34m\u001b[0m\u001b[0m\n\u001b[0m\u001b[1;32m   1969\u001b[0m     \u001b[0;32melse\u001b[0m\u001b[0;34m:\u001b[0m\u001b[0;34m\u001b[0m\u001b[0;34m\u001b[0m\u001b[0m\n\u001b[1;32m   1970\u001b[0m         \u001b[0;32mfrom\u001b[0m \u001b[0mxml\u001b[0m\u001b[0;34m.\u001b[0m\u001b[0mdom\u001b[0m \u001b[0;32mimport\u001b[0m \u001b[0mpulldom\u001b[0m\u001b[0;34m\u001b[0m\u001b[0;34m\u001b[0m\u001b[0m\n",
      "\u001b[0;32m/usr/local/Cellar/python/3.7.2_2/Frameworks/Python.framework/Versions/3.7/lib/python3.7/xml/dom/expatbuilder.py\u001b[0m in \u001b[0;36mparseString\u001b[0;34m(string, namespaces)\u001b[0m\n\u001b[1;32m    923\u001b[0m     \u001b[0;32melse\u001b[0m\u001b[0;34m:\u001b[0m\u001b[0;34m\u001b[0m\u001b[0;34m\u001b[0m\u001b[0m\n\u001b[1;32m    924\u001b[0m         \u001b[0mbuilder\u001b[0m \u001b[0;34m=\u001b[0m \u001b[0mExpatBuilder\u001b[0m\u001b[0;34m(\u001b[0m\u001b[0;34m)\u001b[0m\u001b[0;34m\u001b[0m\u001b[0;34m\u001b[0m\u001b[0m\n\u001b[0;32m--> 925\u001b[0;31m     \u001b[0;32mreturn\u001b[0m \u001b[0mbuilder\u001b[0m\u001b[0;34m.\u001b[0m\u001b[0mparseString\u001b[0m\u001b[0;34m(\u001b[0m\u001b[0mstring\u001b[0m\u001b[0;34m)\u001b[0m\u001b[0;34m\u001b[0m\u001b[0;34m\u001b[0m\u001b[0m\n\u001b[0m\u001b[1;32m    926\u001b[0m \u001b[0;34m\u001b[0m\u001b[0m\n\u001b[1;32m    927\u001b[0m \u001b[0;34m\u001b[0m\u001b[0m\n",
      "\u001b[0;32m/usr/local/Cellar/python/3.7.2_2/Frameworks/Python.framework/Versions/3.7/lib/python3.7/xml/dom/expatbuilder.py\u001b[0m in \u001b[0;36mparseString\u001b[0;34m(self, string)\u001b[0m\n\u001b[1;32m    221\u001b[0m         \u001b[0mparser\u001b[0m \u001b[0;34m=\u001b[0m \u001b[0mself\u001b[0m\u001b[0;34m.\u001b[0m\u001b[0mgetParser\u001b[0m\u001b[0;34m(\u001b[0m\u001b[0;34m)\u001b[0m\u001b[0;34m\u001b[0m\u001b[0;34m\u001b[0m\u001b[0m\n\u001b[1;32m    222\u001b[0m         \u001b[0;32mtry\u001b[0m\u001b[0;34m:\u001b[0m\u001b[0;34m\u001b[0m\u001b[0;34m\u001b[0m\u001b[0m\n\u001b[0;32m--> 223\u001b[0;31m             \u001b[0mparser\u001b[0m\u001b[0;34m.\u001b[0m\u001b[0mParse\u001b[0m\u001b[0;34m(\u001b[0m\u001b[0mstring\u001b[0m\u001b[0;34m,\u001b[0m \u001b[0;32mTrue\u001b[0m\u001b[0;34m)\u001b[0m\u001b[0;34m\u001b[0m\u001b[0;34m\u001b[0m\u001b[0m\n\u001b[0m\u001b[1;32m    224\u001b[0m             \u001b[0mself\u001b[0m\u001b[0;34m.\u001b[0m\u001b[0m_setup_subset\u001b[0m\u001b[0;34m(\u001b[0m\u001b[0mstring\u001b[0m\u001b[0;34m)\u001b[0m\u001b[0;34m\u001b[0m\u001b[0;34m\u001b[0m\u001b[0m\n\u001b[1;32m    225\u001b[0m         \u001b[0;32mexcept\u001b[0m \u001b[0mParseEscape\u001b[0m\u001b[0;34m:\u001b[0m\u001b[0;34m\u001b[0m\u001b[0;34m\u001b[0m\u001b[0m\n",
      "\u001b[0;31mExpatError\u001b[0m: not well-formed (invalid token): line 1, column 35"
     ]
    }
   ],
   "source": [
    "export_as_xml('../example/Zeng_et_al-2008-Angewandte_Chemie_(International_ed._in_English).pdf', '../example/output.xml')"
   ]
  },
  {
   "cell_type": "code",
   "execution_count": 10,
   "metadata": {},
   "outputs": [],
   "source": [
    "# csv_exporter.py\n",
    " \n",
    "import csv\n",
    "import os\n",
    " \n",
    "def export_as_csv(pdf_path, csv_path):\n",
    "    filename = os.path.splitext(os.path.basename(pdf_path))[0]\n",
    " \n",
    "    counter = 1\n",
    "    with open(csv_path, 'w') as csv_file:\n",
    "        writer = csv.writer(csv_file)\n",
    "        for page in extract_text_by_page(pdf_path):\n",
    "            text = page[0:100]\n",
    "            words = text.split()\n",
    "            writer.writerow(words)"
   ]
  },
  {
   "cell_type": "code",
   "execution_count": 11,
   "metadata": {},
   "outputs": [],
   "source": [
    "export_as_csv('../example/Zeng_et_al-2008-Angewandte_Chemie_(International_ed._in_English).pdf', '../example/output.csv')"
   ]
  },
  {
   "cell_type": "code",
   "execution_count": 14,
   "metadata": {},
   "outputs": [],
   "source": [
    "# image_exporter.py\n",
    " \n",
    "import os\n",
    "import subprocess\n",
    " \n",
    "def image_exporter(pdf_path, output_dir):\n",
    "    if not os.path.exists(output_dir):\n",
    "        os.makedirs(output_dir)\n",
    " \n",
    "    cmd = ['pdfimages', pdf_path, \n",
    "           '{}/prefix'.format(output_dir)]\n",
    "    subprocess.call(cmd)\n",
    "    print('Images extracted:')\n",
    "    print(os.listdir(output_dir))"
   ]
  },
  {
   "cell_type": "code",
   "execution_count": 15,
   "metadata": {},
   "outputs": [
    {
     "name": "stdout",
     "output_type": "stream",
     "text": [
      "Images extracted:\n",
      "['prefix-0000.pbm', 'prefix-0002.ppm', 'prefix-0004.pbm', 'prefix-0001.pgm', 'prefix-0003.pgm', 'prefix-0005.pgm']\n"
     ]
    }
   ],
   "source": [
    "image_exporter('../example/Zeng_et_al-2008-Angewandte_Chemie_(International_ed._in_English).pdf', '../example/figure-')"
   ]
  },
  {
   "cell_type": "code",
   "execution_count": null,
   "metadata": {},
   "outputs": [],
   "source": []
  }
 ],
 "metadata": {
  "kernelspec": {
   "display_name": "Python 3 (default)",
   "language": "python",
   "name": "python3"
  },
  "language_info": {
   "codemirror_mode": {
    "name": "ipython",
    "version": 3
   },
   "file_extension": ".py",
   "mimetype": "text/x-python",
   "name": "python",
   "nbconvert_exporter": "python",
   "pygments_lexer": "ipython3",
   "version": "3.7.2"
  }
 },
 "nbformat": 4,
 "nbformat_minor": 2
}
